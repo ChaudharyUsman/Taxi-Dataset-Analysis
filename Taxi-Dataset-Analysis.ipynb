{
 "cells": [
  {
   "cell_type": "code",
   "execution_count": 1,
   "id": "aa246983-142e-4abc-93fd-2703c97a6a42",
   "metadata": {},
   "outputs": [],
   "source": [
    "import numpy as np"
   ]
  },
  {
   "cell_type": "code",
   "execution_count": 2,
   "id": "70ddc428-f48b-417d-93a0-6a6195efedc1",
   "metadata": {},
   "outputs": [],
   "source": [
    "taxi = np.genfromtxt('nyc_taxis.csv' , delimiter = ',' ,skip_header = True )"
   ]
  },
  {
   "cell_type": "code",
   "execution_count": 3,
   "id": "35f07be3-bfcf-4b7b-a1e3-bd6b905d8ce3",
   "metadata": {},
   "outputs": [],
   "source": [
    "speed = taxi[:, 7]/ (taxi[:, 8]/3600)"
   ]
  },
  {
   "cell_type": "code",
   "execution_count": 4,
   "id": "927d6992-43e3-4181-92c7-75bd9bf93d19",
   "metadata": {},
   "outputs": [
    {
     "name": "stdout",
     "output_type": "stream",
     "text": [
      "32.24258580925573\n"
     ]
    }
   ],
   "source": [
    "mean_speed = speed.mean()\n",
    "print(mean_speed)"
   ]
  },
  {
   "cell_type": "code",
   "execution_count": 5,
   "id": "fa045816-f7c7-4e64-a377-4e70ba5057be",
   "metadata": {},
   "outputs": [
    {
     "name": "stdout",
     "output_type": "stream",
     "text": [
      "13333\n"
     ]
    }
   ],
   "source": [
    "rides_feb = taxi[taxi[:, 1] == 2 , 1]\n",
    "print(rides_feb.shape[0])"
   ]
  },
  {
   "cell_type": "code",
   "execution_count": 6,
   "id": "409a26e2-de94-456f-adb0-90cc10ed1139",
   "metadata": {},
   "outputs": [
    {
     "name": "stdout",
     "output_type": "stream",
     "text": [
      "16\n"
     ]
    }
   ],
   "source": [
    "print(taxi[taxi[:, -3] > 50, -3 ].shape[0])"
   ]
  },
  {
   "cell_type": "code",
   "execution_count": 7,
   "id": "8c9924e3-4fb2-46ac-bb5c-39912f748aa6",
   "metadata": {},
   "outputs": [
    {
     "name": "stdout",
     "output_type": "stream",
     "text": [
      "11832\n"
     ]
    }
   ],
   "source": [
    "print(taxi[taxi[:, 6] == 2, 6 ].shape[0])"
   ]
  },
  {
   "cell_type": "code",
   "execution_count": null,
   "id": "2f12bf09-3dc8-4001-908a-4d6d9413d656",
   "metadata": {},
   "outputs": [],
   "source": []
  }
 ],
 "metadata": {
  "kernelspec": {
   "display_name": "Python 3 (ipykernel)",
   "language": "python",
   "name": "python3"
  },
  "language_info": {
   "codemirror_mode": {
    "name": "ipython",
    "version": 3
   },
   "file_extension": ".py",
   "mimetype": "text/x-python",
   "name": "python",
   "nbconvert_exporter": "python",
   "pygments_lexer": "ipython3",
   "version": "3.12.2"
  }
 },
 "nbformat": 4,
 "nbformat_minor": 5
}
